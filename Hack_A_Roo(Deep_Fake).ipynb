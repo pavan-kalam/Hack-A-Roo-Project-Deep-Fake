{
  "nbformat": 4,
  "nbformat_minor": 0,
  "metadata": {
    "colab": {
      "provenance": [],
      "authorship_tag": "ABX9TyNOYan/nOZEu1jQEIz03HgW",
      "include_colab_link": true
    },
    "kernelspec": {
      "name": "python3",
      "display_name": "Python 3"
    },
    "language_info": {
      "name": "python"
    }
  },
  "cells": [
    {
      "cell_type": "markdown",
      "metadata": {
        "id": "view-in-github",
        "colab_type": "text"
      },
      "source": [
        "<a href=\"https://colab.research.google.com/github/pavan-kalam/Hack-A-Roo-Project-Deep-Fake/blob/main/Hack_A_Roo(Deep_Fake).ipynb\" target=\"_parent\"><img src=\"https://colab.research.google.com/assets/colab-badge.svg\" alt=\"Open In Colab\"/></a>"
      ]
    },
    {
      "cell_type": "code",
      "source": [
        "!pip install flask pyngrok"
      ],
      "metadata": {
        "colab": {
          "base_uri": "https://localhost:8080/"
        },
        "id": "SZR3Pva0ZNVj",
        "outputId": "dccba699-100b-4275-934c-aad78f4f6c70"
      },
      "execution_count": 1,
      "outputs": [
        {
          "output_type": "stream",
          "name": "stdout",
          "text": [
            "Requirement already satisfied: flask in /usr/local/lib/python3.10/dist-packages (2.2.5)\n",
            "Collecting pyngrok\n",
            "  Downloading pyngrok-7.2.1-py3-none-any.whl.metadata (8.3 kB)\n",
            "Requirement already satisfied: Werkzeug>=2.2.2 in /usr/local/lib/python3.10/dist-packages (from flask) (3.1.2)\n",
            "Requirement already satisfied: Jinja2>=3.0 in /usr/local/lib/python3.10/dist-packages (from flask) (3.1.4)\n",
            "Requirement already satisfied: itsdangerous>=2.0 in /usr/local/lib/python3.10/dist-packages (from flask) (2.2.0)\n",
            "Requirement already satisfied: click>=8.0 in /usr/local/lib/python3.10/dist-packages (from flask) (8.1.7)\n",
            "Requirement already satisfied: PyYAML>=5.1 in /usr/local/lib/python3.10/dist-packages (from pyngrok) (6.0.2)\n",
            "Requirement already satisfied: MarkupSafe>=2.0 in /usr/local/lib/python3.10/dist-packages (from Jinja2>=3.0->flask) (3.0.2)\n",
            "Downloading pyngrok-7.2.1-py3-none-any.whl (22 kB)\n",
            "Installing collected packages: pyngrok\n",
            "Successfully installed pyngrok-7.2.1\n"
          ]
        }
      ]
    },
    {
      "cell_type": "code",
      "source": [
        "import tensorflow as tf\n",
        "from tensorflow import keras\n",
        "import numpy as np\n",
        "from PIL import Image\n",
        "import io\n",
        "import os\n",
        "from flask import Flask, request, jsonify, render_template_string\n",
        "from pyngrok import ngrok\n",
        "from google.colab import drive\n",
        "\n",
        "# Mount Google Drive\n",
        "drive.mount('/content/drive')"
      ],
      "metadata": {
        "colab": {
          "base_uri": "https://localhost:8080/"
        },
        "id": "9ISJ8RffZO2g",
        "outputId": "b6c809e6-605f-4982-a314-64cd4f8c85b1"
      },
      "execution_count": 2,
      "outputs": [
        {
          "output_type": "stream",
          "name": "stdout",
          "text": [
            "Mounted at /content/drive\n"
          ]
        }
      ]
    },
    {
      "cell_type": "code",
      "source": [
        "# Define models directory\n",
        "MODELS_DIR = '/content/drive/MyDrive/Hack-A-Roo/'\n",
        "if not os.path.exists(MODELS_DIR):\n",
        "    os.makedirs(MODELS_DIR)"
      ],
      "metadata": {
        "id": "zDcq1c_WZn2l"
      },
      "execution_count": 3,
      "outputs": []
    },
    {
      "cell_type": "code",
      "execution_count": 4,
      "metadata": {
        "colab": {
          "base_uri": "https://localhost:8080/"
        },
        "id": "Lkjg-kXKY6e6",
        "outputId": "99dc130c-2ab4-42bf-d86f-eda064134e93"
      },
      "outputs": [
        {
          "metadata": {
            "tags": null
          },
          "name": "stdout",
          "output_type": "stream",
          "text": [
            " * ngrok tunnel URL: NgrokTunnel: \"https://b22e-34-91-191-229.ngrok-free.app\" -> \"http://localhost:5000\"\n",
            " * Serving Flask app '__main__'\n",
            " * Debug mode: off\n"
          ]
        },
        {
          "output_type": "stream",
          "name": "stderr",
          "text": [
            "INFO:werkzeug:\u001b[31m\u001b[1mWARNING: This is a development server. Do not use it in a production deployment. Use a production WSGI server instead.\u001b[0m\n",
            " * Running on http://127.0.0.1:5000\n",
            "INFO:werkzeug:\u001b[33mPress CTRL+C to quit\u001b[0m\n",
            "INFO:werkzeug:127.0.0.1 - - [11/Nov/2024 18:06:00] \"GET / HTTP/1.1\" 200 -\n",
            "INFO:werkzeug:127.0.0.1 - - [11/Nov/2024 18:06:19] \"POST / HTTP/1.1\" 200 -\n",
            "INFO:werkzeug:127.0.0.1 - - [11/Nov/2024 18:08:13] \"GET / HTTP/1.1\" 200 -\n"
          ]
        }
      ],
      "source": [
        "# Flask app setup\n",
        "app = Flask(__name__)\n",
        "\n",
        "# HTML Template (same as before)\n",
        "HTML_TEMPLATE = '''\n",
        "<!DOCTYPE html>\n",
        "<html lang=\"en\">\n",
        "<head>\n",
        "    <meta charset=\"UTF-8\">\n",
        "    <meta name=\"viewport\" content=\"width=device-width, initial-scale=1.0\">\n",
        "    <title>Deepfake Detector</title>\n",
        "    <style>\n",
        "        body {\n",
        "            font-family: Arial, sans-serif;\n",
        "            max-width: 800px;\n",
        "            margin: 0 auto;\n",
        "            padding: 20px;\n",
        "            background-color: #f5f5f5;\n",
        "        }\n",
        "        .container {\n",
        "            background-color: white;\n",
        "            padding: 20px;\n",
        "            border-radius: 8px;\n",
        "            box-shadow: 0 2px 4px rgba(0,0,0,0.1);\n",
        "        }\n",
        "        h1 {\n",
        "            color: #333;\n",
        "            text-align: center;\n",
        "        }\n",
        "        form {\n",
        "            margin-bottom: 20px;\n",
        "        }\n",
        "        select, input[type=\"file\"] {\n",
        "            width: 100%;\n",
        "            padding: 8px;\n",
        "            margin: 10px 0;\n",
        "            border: 1px solid #ddd;\n",
        "            border-radius: 4px;\n",
        "        }\n",
        "        input[type=\"submit\"] {\n",
        "            background-color: #4CAF50;\n",
        "            color: white;\n",
        "            padding: 10px 20px;\n",
        "            border: none;\n",
        "            border-radius: 4px;\n",
        "            cursor: pointer;\n",
        "            width: 100%;\n",
        "        }\n",
        "        input[type=\"submit\"]:hover {\n",
        "            background-color: #45a049;\n",
        "        }\n",
        "        #result {\n",
        "            margin-top: 20px;\n",
        "            padding: 15px;\n",
        "            border-radius: 4px;\n",
        "            text-align: center;\n",
        "            font-weight: bold;\n",
        "        }\n",
        "        .real {\n",
        "            background-color: #dff0d8;\n",
        "            color: #3c763d;\n",
        "        }\n",
        "        .fake {\n",
        "            background-color: #f2dede;\n",
        "            color: #a94442;\n",
        "        }\n",
        "    </style>\n",
        "</head>\n",
        "<body>\n",
        "    <div class=\"container\">\n",
        "        <h1>Deepfake Image Detector</h1>\n",
        "        <form action=\"/\" method=\"post\" enctype=\"multipart/form-data\">\n",
        "            <label for=\"model\">Select Model:</label>\n",
        "            <select name=\"model\" id=\"model\">\n",
        "                {% for model in models %}\n",
        "                <option value=\"{{ model }}\">{{ model }}</option>\n",
        "                {% endfor %}\n",
        "            </select>\n",
        "            <input type=\"file\" name=\"image\" accept=\"image/*\" required>\n",
        "            <input type=\"submit\" value=\"Detect\">\n",
        "        </form>\n",
        "        {% if result %}\n",
        "        <div id=\"result\" class=\"{{ 'fake' if 'FAKE' in result else 'real' }}\">\n",
        "            {{ result }}\n",
        "        </div>\n",
        "        {% endif %}\n",
        "    </div>\n",
        "</body>\n",
        "</html>\n",
        "'''\n",
        "\n",
        "def get_available_models():\n",
        "    models = []\n",
        "    for file in os.listdir(MODELS_DIR):\n",
        "        if file.endswith('.keras'):\n",
        "            models.append(file)\n",
        "    return sorted(models)\n",
        "\n",
        "def preprocess_image(image):\n",
        "    if image.mode != 'RGB':\n",
        "        image = image.convert('RGB')\n",
        "    image = image.resize((128, 128))\n",
        "    image_array = np.array(image)\n",
        "    image_array = image_array.astype('float32') / 255.0\n",
        "    image_array = np.expand_dims(image_array, axis=0)\n",
        "    return image_array\n",
        "\n",
        "def load_selected_model(model_name):\n",
        "    model_path = os.path.join(MODELS_DIR, model_name)\n",
        "    return keras.models.load_model(model_path)\n",
        "\n",
        "def predict_image(model, image):\n",
        "    processed_image = preprocess_image(image)\n",
        "    prediction = model.predict(processed_image, verbose=0)[0][0]\n",
        "    result = \"FAKE\" if prediction >= 0.5 else \"REAL\"\n",
        "    confidence = float(prediction) if prediction >= 0.5 else float(1 - prediction)\n",
        "    confidence = confidence * 100\n",
        "    return result, confidence\n",
        "\n",
        "@app.route('/', methods=['GET', 'POST'])\n",
        "def index():\n",
        "    result = \"\"\n",
        "    if request.method == 'POST':\n",
        "        try:\n",
        "            model_name = request.form['model']\n",
        "            image_file = request.files['image']\n",
        "\n",
        "            if image_file:\n",
        "                image = Image.open(image_file)\n",
        "                model = load_selected_model(model_name)\n",
        "                prediction, confidence = predict_image(model, image)\n",
        "                result = f\"Prediction: {prediction} (Confidence: {confidence:.2f}%)\"\n",
        "        except Exception as e:\n",
        "            result = f\"Error: {str(e)}\"\n",
        "\n",
        "    models = get_available_models()\n",
        "    return render_template_string(HTML_TEMPLATE, models=models, result=result)\n",
        "\n",
        "# Set up ngrok\n",
        "ngrok.set_auth_token(\"2g1JdKt7wOkTkDKLQwdgBIBrSkf_7qXqeFnUFPT4Hqegq9uXc\")  # Replace with your ngrok auth token\n",
        "public_url = ngrok.connect(5000)\n",
        "print(f\" * ngrok tunnel URL: {public_url}\")\n",
        "\n",
        "# Run the app\n",
        "if __name__ == '__main__':\n",
        "    app.run()"
      ]
    }
  ]
}